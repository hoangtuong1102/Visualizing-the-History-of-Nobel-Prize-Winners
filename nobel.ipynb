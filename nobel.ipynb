{
 "cells": [
  {
   "cell_type": "code",
   "execution_count": 71,
   "metadata": {
    "collapsed": true,
    "pycharm": {
     "name": "#%%\n"
    }
   },
   "outputs": [],
   "source": [
    "import pandas as pd\n",
    "import numpy as np\n",
    "import seaborn as sns"
   ]
  },
  {
   "cell_type": "markdown",
   "source": [
    "What is the most commonly awarded gender and birth country? Storing the string answers as top_gender and top_country."
   ],
   "metadata": {
    "collapsed": false,
    "pycharm": {
     "name": "#%% md\n"
    }
   }
  },
  {
   "cell_type": "code",
   "execution_count": 72,
   "outputs": [],
   "source": [
    "data = pd.read_csv('nobel.csv')"
   ],
   "metadata": {
    "collapsed": false,
    "pycharm": {
     "name": "#%%\n"
    }
   }
  },
  {
   "cell_type": "code",
   "execution_count": 73,
   "outputs": [
    {
     "data": {
      "text/plain": "   year    category                                           prize  \\\n0  1901   Chemistry               The Nobel Prize in Chemistry 1901   \n1  1901  Literature              The Nobel Prize in Literature 1901   \n2  1901    Medicine  The Nobel Prize in Physiology or Medicine 1901   \n3  1901       Peace                      The Nobel Peace Prize 1901   \n4  1901       Peace                      The Nobel Peace Prize 1901   \n\n                                          motivation prize_share  laureate_id  \\\n0  \"in recognition of the extraordinary services ...         1/1          160   \n1  \"in special recognition of his poetic composit...         1/1          569   \n2  \"for his work on serum therapy, especially its...         1/1          293   \n3                                                NaN         1/2          462   \n4                                                NaN         1/2          463   \n\n  laureate_type                     full_name  birth_date         birth_city  \\\n0    Individual  Jacobus Henricus van 't Hoff  1852-08-30          Rotterdam   \n1    Individual               Sully Prudhomme  1839-03-16              Paris   \n2    Individual        Emil Adolf von Behring  1854-03-15  Hansdorf (Lawice)   \n3    Individual             Jean Henry Dunant  1828-05-08             Geneva   \n4    Individual                Frédéric Passy  1822-05-20              Paris   \n\n      birth_country   sex   organization_name organization_city  \\\n0       Netherlands  Male   Berlin University            Berlin   \n1            France  Male                 NaN               NaN   \n2  Prussia (Poland)  Male  Marburg University           Marburg   \n3       Switzerland  Male                 NaN               NaN   \n4            France  Male                 NaN               NaN   \n\n  organization_country  death_date death_city death_country  \n0              Germany  1911-03-01     Berlin       Germany  \n1                  NaN  1907-09-07   Châtenay        France  \n2              Germany  1917-03-31    Marburg       Germany  \n3                  NaN  1910-10-30     Heiden   Switzerland  \n4                  NaN  1912-06-12      Paris        France  ",
      "text/html": "<div>\n<style scoped>\n    .dataframe tbody tr th:only-of-type {\n        vertical-align: middle;\n    }\n\n    .dataframe tbody tr th {\n        vertical-align: top;\n    }\n\n    .dataframe thead th {\n        text-align: right;\n    }\n</style>\n<table border=\"1\" class=\"dataframe\">\n  <thead>\n    <tr style=\"text-align: right;\">\n      <th></th>\n      <th>year</th>\n      <th>category</th>\n      <th>prize</th>\n      <th>motivation</th>\n      <th>prize_share</th>\n      <th>laureate_id</th>\n      <th>laureate_type</th>\n      <th>full_name</th>\n      <th>birth_date</th>\n      <th>birth_city</th>\n      <th>birth_country</th>\n      <th>sex</th>\n      <th>organization_name</th>\n      <th>organization_city</th>\n      <th>organization_country</th>\n      <th>death_date</th>\n      <th>death_city</th>\n      <th>death_country</th>\n    </tr>\n  </thead>\n  <tbody>\n    <tr>\n      <th>0</th>\n      <td>1901</td>\n      <td>Chemistry</td>\n      <td>The Nobel Prize in Chemistry 1901</td>\n      <td>\"in recognition of the extraordinary services ...</td>\n      <td>1/1</td>\n      <td>160</td>\n      <td>Individual</td>\n      <td>Jacobus Henricus van 't Hoff</td>\n      <td>1852-08-30</td>\n      <td>Rotterdam</td>\n      <td>Netherlands</td>\n      <td>Male</td>\n      <td>Berlin University</td>\n      <td>Berlin</td>\n      <td>Germany</td>\n      <td>1911-03-01</td>\n      <td>Berlin</td>\n      <td>Germany</td>\n    </tr>\n    <tr>\n      <th>1</th>\n      <td>1901</td>\n      <td>Literature</td>\n      <td>The Nobel Prize in Literature 1901</td>\n      <td>\"in special recognition of his poetic composit...</td>\n      <td>1/1</td>\n      <td>569</td>\n      <td>Individual</td>\n      <td>Sully Prudhomme</td>\n      <td>1839-03-16</td>\n      <td>Paris</td>\n      <td>France</td>\n      <td>Male</td>\n      <td>NaN</td>\n      <td>NaN</td>\n      <td>NaN</td>\n      <td>1907-09-07</td>\n      <td>Châtenay</td>\n      <td>France</td>\n    </tr>\n    <tr>\n      <th>2</th>\n      <td>1901</td>\n      <td>Medicine</td>\n      <td>The Nobel Prize in Physiology or Medicine 1901</td>\n      <td>\"for his work on serum therapy, especially its...</td>\n      <td>1/1</td>\n      <td>293</td>\n      <td>Individual</td>\n      <td>Emil Adolf von Behring</td>\n      <td>1854-03-15</td>\n      <td>Hansdorf (Lawice)</td>\n      <td>Prussia (Poland)</td>\n      <td>Male</td>\n      <td>Marburg University</td>\n      <td>Marburg</td>\n      <td>Germany</td>\n      <td>1917-03-31</td>\n      <td>Marburg</td>\n      <td>Germany</td>\n    </tr>\n    <tr>\n      <th>3</th>\n      <td>1901</td>\n      <td>Peace</td>\n      <td>The Nobel Peace Prize 1901</td>\n      <td>NaN</td>\n      <td>1/2</td>\n      <td>462</td>\n      <td>Individual</td>\n      <td>Jean Henry Dunant</td>\n      <td>1828-05-08</td>\n      <td>Geneva</td>\n      <td>Switzerland</td>\n      <td>Male</td>\n      <td>NaN</td>\n      <td>NaN</td>\n      <td>NaN</td>\n      <td>1910-10-30</td>\n      <td>Heiden</td>\n      <td>Switzerland</td>\n    </tr>\n    <tr>\n      <th>4</th>\n      <td>1901</td>\n      <td>Peace</td>\n      <td>The Nobel Peace Prize 1901</td>\n      <td>NaN</td>\n      <td>1/2</td>\n      <td>463</td>\n      <td>Individual</td>\n      <td>Frédéric Passy</td>\n      <td>1822-05-20</td>\n      <td>Paris</td>\n      <td>France</td>\n      <td>Male</td>\n      <td>NaN</td>\n      <td>NaN</td>\n      <td>NaN</td>\n      <td>1912-06-12</td>\n      <td>Paris</td>\n      <td>France</td>\n    </tr>\n  </tbody>\n</table>\n</div>"
     },
     "execution_count": 73,
     "metadata": {},
     "output_type": "execute_result"
    }
   ],
   "source": [
    "data.head()"
   ],
   "metadata": {
    "collapsed": false,
    "pycharm": {
     "name": "#%%\n"
    }
   }
  },
  {
   "cell_type": "code",
   "execution_count": 74,
   "outputs": [
    {
     "data": {
      "text/plain": "'Male'"
     },
     "execution_count": 74,
     "metadata": {},
     "output_type": "execute_result"
    }
   ],
   "source": [
    "top_gender= data['sex'].value_counts().idxmax()\n",
    "top_gender"
   ],
   "metadata": {
    "collapsed": false,
    "pycharm": {
     "name": "#%%\n"
    }
   }
  },
  {
   "cell_type": "code",
   "execution_count": 75,
   "outputs": [
    {
     "data": {
      "text/plain": "'United States of America'"
     },
     "execution_count": 75,
     "metadata": {},
     "output_type": "execute_result"
    }
   ],
   "source": [
    "top_country = data.birth_country.value_counts().idxmax()\n",
    "top_country"
   ],
   "metadata": {
    "collapsed": false,
    "pycharm": {
     "name": "#%%\n"
    }
   }
  },
  {
   "cell_type": "markdown",
   "source": [
    "What decade had the highest proportion of US-born winners? Store this as an integer called max_decade_usa."
   ],
   "metadata": {
    "collapsed": false,
    "pycharm": {
     "name": "#%% md\n"
    }
   }
  },
  {
   "cell_type": "code",
   "execution_count": 76,
   "outputs": [
    {
     "name": "stdout",
     "output_type": "stream",
     "text": [
      "2000\n"
     ]
    }
   ],
   "source": [
    "data['decate'] = (data['year']//10)*10\n",
    "decate_usa = data[data['birth_country'] == top_country].decate.value_counts()\n",
    "decate_usa\n",
    "max_decate_usa = decate_usa.idxmax()\n",
    "print(max_decate_usa)"
   ],
   "metadata": {
    "collapsed": false,
    "pycharm": {
     "name": "#%%\n"
    }
   }
  },
  {
   "cell_type": "markdown",
   "source": [
    "What decade and category pair had the highest proportion of female laureates? Store this as a dictionary called max_female_dict where the decade is the key and the category is the value."
   ],
   "metadata": {
    "collapsed": false,
    "pycharm": {
     "name": "#%% md\n"
    }
   }
  },
  {
   "cell_type": "code",
   "execution_count": 77,
   "outputs": [
    {
     "name": "stdout",
     "output_type": "stream",
     "text": [
      "    decate    category  count\n",
      "0     1900  Literature      1\n",
      "1     1900       Peace      1\n",
      "2     1900     Physics      1\n",
      "3     1910   Chemistry      1\n",
      "4     1920  Literature      2\n",
      "5     1930   Chemistry      1\n",
      "6     1930  Literature      1\n",
      "7     1930       Peace      1\n",
      "8     1940  Literature      1\n",
      "9     1940    Medicine      1\n",
      "10    1940       Peace      1\n",
      "11    1960   Chemistry      1\n",
      "12    1960  Literature      1\n",
      "13    1960     Physics      1\n",
      "14    1970    Medicine      1\n",
      "15    1970       Peace      3\n",
      "16    1980    Medicine      3\n",
      "17    1980       Peace      1\n",
      "18    1990  Literature      3\n",
      "19    1990    Medicine      1\n",
      "20    1990       Peace      3\n",
      "21    2000   Chemistry      1\n",
      "22    2000   Economics      1\n",
      "23    2000  Literature      3\n",
      "24    2000    Medicine      4\n",
      "25    2000       Peace      2\n",
      "26    2010   Chemistry      1\n",
      "27    2010   Economics      1\n",
      "28    2010  Literature      3\n",
      "29    2010    Medicine      2\n",
      "30    2010       Peace      5\n",
      "31    2010     Physics      1\n",
      "32    2020   Chemistry      3\n",
      "33    2020   Economics      1\n",
      "34    2020  Literature      2\n",
      "35    2020    Medicine      1\n",
      "36    2020       Peace      2\n",
      "37    2020     Physics      2\n"
     ]
    }
   ],
   "source": [
    "data_female = data[data['sex'] == 'Female']\n",
    "data_female_count = data_female.groupby(['decate','category'], as_index=False).decate.value_counts()\n",
    "print(data_female_count)\n",
    "max_female_decade_category = data_female_count[data_female_count['count'] == data_female_count['count'].max()]"
   ],
   "metadata": {
    "collapsed": false,
    "pycharm": {
     "name": "#%%\n"
    }
   }
  },
  {
   "cell_type": "code",
   "execution_count": 78,
   "outputs": [
    {
     "data": {
      "text/plain": "    decate category  count\n30    2010    Peace      5",
      "text/html": "<div>\n<style scoped>\n    .dataframe tbody tr th:only-of-type {\n        vertical-align: middle;\n    }\n\n    .dataframe tbody tr th {\n        vertical-align: top;\n    }\n\n    .dataframe thead th {\n        text-align: right;\n    }\n</style>\n<table border=\"1\" class=\"dataframe\">\n  <thead>\n    <tr style=\"text-align: right;\">\n      <th></th>\n      <th>decate</th>\n      <th>category</th>\n      <th>count</th>\n    </tr>\n  </thead>\n  <tbody>\n    <tr>\n      <th>30</th>\n      <td>2010</td>\n      <td>Peace</td>\n      <td>5</td>\n    </tr>\n  </tbody>\n</table>\n</div>"
     },
     "execution_count": 78,
     "metadata": {},
     "output_type": "execute_result"
    }
   ],
   "source": [
    "max_female_decade_category"
   ],
   "metadata": {
    "collapsed": false,
    "pycharm": {
     "name": "#%%\n"
    }
   }
  },
  {
   "cell_type": "code",
   "execution_count": 79,
   "outputs": [
    {
     "data": {
      "text/plain": "{2010: 'Peace'}"
     },
     "execution_count": 79,
     "metadata": {},
     "output_type": "execute_result"
    }
   ],
   "source": [
    "max_female_dict = {max_female_decade_category.decate.values[0]: max_female_decade_category.category.values[0]}\n",
    "max_female_dict"
   ],
   "metadata": {
    "collapsed": false,
    "pycharm": {
     "name": "#%%\n"
    }
   }
  },
  {
   "cell_type": "markdown",
   "source": [
    "Who was the first woman to receive a Nobel Prize, and in what category? Save your string answers as first_woman_name and first_woman_category."
   ],
   "metadata": {
    "collapsed": false,
    "pycharm": {
     "name": "#%% md\n"
    }
   }
  },
  {
   "cell_type": "code",
   "execution_count": 80,
   "outputs": [],
   "source": [
    "first_woman = data_female[data_female['year'] == data_female['year'].min()]"
   ],
   "metadata": {
    "collapsed": false,
    "pycharm": {
     "name": "#%%\n"
    }
   }
  },
  {
   "cell_type": "code",
   "execution_count": 81,
   "outputs": [
    {
     "data": {
      "text/plain": "    year category                            prize  \\\n19  1903  Physics  The Nobel Prize in Physics 1903   \n\n                                           motivation prize_share  \\\n19  \"in recognition of the extraordinary services ...         1/4   \n\n    laureate_id laureate_type                    full_name  birth_date  \\\n19            6    Individual  Marie Curie, née Sklodowska  1867-11-07   \n\n   birth_city            birth_country     sex organization_name  \\\n19     Warsaw  Russian Empire (Poland)  Female               NaN   \n\n   organization_city organization_country  death_date  death_city  \\\n19               NaN                  NaN  1934-07-04  Sallanches   \n\n   death_country  decate  \n19        France    1900  ",
      "text/html": "<div>\n<style scoped>\n    .dataframe tbody tr th:only-of-type {\n        vertical-align: middle;\n    }\n\n    .dataframe tbody tr th {\n        vertical-align: top;\n    }\n\n    .dataframe thead th {\n        text-align: right;\n    }\n</style>\n<table border=\"1\" class=\"dataframe\">\n  <thead>\n    <tr style=\"text-align: right;\">\n      <th></th>\n      <th>year</th>\n      <th>category</th>\n      <th>prize</th>\n      <th>motivation</th>\n      <th>prize_share</th>\n      <th>laureate_id</th>\n      <th>laureate_type</th>\n      <th>full_name</th>\n      <th>birth_date</th>\n      <th>birth_city</th>\n      <th>birth_country</th>\n      <th>sex</th>\n      <th>organization_name</th>\n      <th>organization_city</th>\n      <th>organization_country</th>\n      <th>death_date</th>\n      <th>death_city</th>\n      <th>death_country</th>\n      <th>decate</th>\n    </tr>\n  </thead>\n  <tbody>\n    <tr>\n      <th>19</th>\n      <td>1903</td>\n      <td>Physics</td>\n      <td>The Nobel Prize in Physics 1903</td>\n      <td>\"in recognition of the extraordinary services ...</td>\n      <td>1/4</td>\n      <td>6</td>\n      <td>Individual</td>\n      <td>Marie Curie, née Sklodowska</td>\n      <td>1867-11-07</td>\n      <td>Warsaw</td>\n      <td>Russian Empire (Poland)</td>\n      <td>Female</td>\n      <td>NaN</td>\n      <td>NaN</td>\n      <td>NaN</td>\n      <td>1934-07-04</td>\n      <td>Sallanches</td>\n      <td>France</td>\n      <td>1900</td>\n    </tr>\n  </tbody>\n</table>\n</div>"
     },
     "execution_count": 81,
     "metadata": {},
     "output_type": "execute_result"
    }
   ],
   "source": [
    "first_woman"
   ],
   "metadata": {
    "collapsed": false,
    "pycharm": {
     "name": "#%%\n"
    }
   }
  },
  {
   "cell_type": "code",
   "execution_count": 82,
   "outputs": [
    {
     "data": {
      "text/plain": "'Marie Curie, née Sklodowska'"
     },
     "execution_count": 82,
     "metadata": {},
     "output_type": "execute_result"
    }
   ],
   "source": [
    "first_woman_name = first_woman.full_name.values[0]\n",
    "first_woman_name"
   ],
   "metadata": {
    "collapsed": false,
    "pycharm": {
     "name": "#%%\n"
    }
   }
  },
  {
   "cell_type": "code",
   "execution_count": 83,
   "outputs": [
    {
     "data": {
      "text/plain": "'Physics'"
     },
     "execution_count": 83,
     "metadata": {},
     "output_type": "execute_result"
    }
   ],
   "source": [
    "first_woman_category = first_woman.category.values[0]\n",
    "first_woman_category"
   ],
   "metadata": {
    "collapsed": false,
    "pycharm": {
     "name": "#%%\n"
    }
   }
  },
  {
   "cell_type": "markdown",
   "source": [
    "Which individuals or organizations have won multiple Nobel Prizes throughout the years? Store the full names in a list named repeat_list."
   ],
   "metadata": {
    "collapsed": false,
    "pycharm": {
     "name": "#%% md\n"
    }
   }
  },
  {
   "cell_type": "code",
   "execution_count": 84,
   "outputs": [
    {
     "data": {
      "text/plain": "full_name\nComité international de la Croix Rouge (International Committee of the Red Cross)    3\nLinus Carl Pauling                                                                   2\nJohn Bardeen                                                                         2\nFrederick Sanger                                                                     2\nMarie Curie, née Sklodowska                                                          2\n                                                                                    ..\nKarl Ziegler                                                                         1\nGiulio Natta                                                                         1\nGiorgos Seferis                                                                      1\nSir John Carew Eccles                                                                1\nClaudia Goldin                                                                       1\nName: count, Length: 993, dtype: int64"
     },
     "execution_count": 84,
     "metadata": {},
     "output_type": "execute_result"
    }
   ],
   "source": [
    "counts = data['full_name'].value_counts()\n",
    "counts"
   ],
   "metadata": {
    "collapsed": false,
    "pycharm": {
     "name": "#%%\n"
    }
   }
  },
  {
   "cell_type": "code",
   "execution_count": 85,
   "outputs": [
    {
     "data": {
      "text/plain": "['Comité international de la Croix Rouge (International Committee of the Red Cross)',\n 'Linus Carl Pauling',\n 'John Bardeen',\n 'Frederick Sanger',\n 'Marie Curie, née Sklodowska',\n 'Office of the United Nations High Commissioner for Refugees (UNHCR)']"
     },
     "execution_count": 85,
     "metadata": {},
     "output_type": "execute_result"
    }
   ],
   "source": [
    "repeats = counts[counts >=2].index\n",
    "repeats_list = list(repeats)\n",
    "repeats_list"
   ],
   "metadata": {
    "collapsed": false,
    "pycharm": {
     "name": "#%%\n"
    }
   }
  },
  {
   "cell_type": "code",
   "execution_count": 85,
   "outputs": [],
   "source": [],
   "metadata": {
    "collapsed": false,
    "pycharm": {
     "name": "#%%\n"
    }
   }
  }
 ],
 "metadata": {
  "kernelspec": {
   "display_name": "Python 3",
   "language": "python",
   "name": "python3"
  },
  "language_info": {
   "codemirror_mode": {
    "name": "ipython",
    "version": 2
   },
   "file_extension": ".py",
   "mimetype": "text/x-python",
   "name": "python",
   "nbconvert_exporter": "python",
   "pygments_lexer": "ipython2",
   "version": "2.7.6"
  }
 },
 "nbformat": 4,
 "nbformat_minor": 0
}